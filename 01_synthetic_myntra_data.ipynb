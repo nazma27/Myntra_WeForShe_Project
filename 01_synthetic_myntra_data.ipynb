{
 "cells": [
  {
   "cell_type": "code",
   "execution_count": 1,
   "metadata": {},
   "outputs": [],
   "source": [
    "import pandas as pd\n",
    "import numpy as np\n",
    "import random\n",
    "from sklearn.preprocessing import MinMaxScaler"
   ]
  },
  {
   "cell_type": "code",
   "execution_count": 2,
   "metadata": {},
   "outputs": [],
   "source": [
    "# Load dataset\n",
    "df = pd.read_csv('myntra_data.csv')\n",
    "df = df[:50000]\n",
    "df.to_csv('myntra_dataset.csv', index=False)"
   ]
  },
  {
   "cell_type": "code",
   "execution_count": 3,
   "metadata": {},
   "outputs": [],
   "source": [
    "# Generate synthetic sales data\n",
    "np.random.seed(42)\n",
    "df['sales'] = np.random.poisson(lam=100 + df['rating'] * 10 + df['discount'] * 0.5, size=len(df))\n"
   ]
  },
  {
   "cell_type": "code",
   "execution_count": 4,
   "metadata": {},
   "outputs": [],
   "source": [
    "# Generate synthetic reviews data\n",
    "reviews = [\n",
    "    \"Great product, highly recommend!\",\n",
    "    \"Decent quality, could be better.\",\n",
    "    \"Not satisfied with the product.\",\n",
    "    \"Excellent value for money.\",\n",
    "    \"Would buy again!\",\n",
    "    \"Poor quality, not as described.\",\n",
    "    \"Loved it, very stylish!\",\n",
    "    \"Product arrived damaged, not happy.\",\n",
    "    \"Fantastic purchase, very happy with it.\",\n",
    "    \"The product is just okay, nothing special.\"\n",
    "]\n",
    "\n",
    "# Create synthetic reviews\n",
    "def generate_reviews(row):\n",
    "    num_reviews = int(row['ratingTotal'])\n",
    "    review_list = random.choices(reviews, k=num_reviews)\n",
    "    return ' '.join(review_list)"
   ]
  },
  {
   "cell_type": "code",
   "execution_count": 5,
   "metadata": {},
   "outputs": [],
   "source": [
    "df['ratingTotal'] = np.random.randint(1, 100, size=len(df))\n",
    "df['reviews'] = df.apply(generate_reviews, axis=1)"
   ]
  },
  {
   "cell_type": "code",
   "execution_count": 6,
   "metadata": {},
   "outputs": [],
   "source": [
    "# Normalize popularity score\n",
    "import math\n",
    "def calculate_popularity_score(row):\n",
    "    weight_rating = 0.4\n",
    "    weight_reviews = 0.3\n",
    "    weight_discount = 0.2\n",
    "    weight_price = 0.1\n",
    "    score = (weight_rating * row['rating'] +\n",
    "             weight_reviews * row['ratingTotal'] +\n",
    "             weight_discount * row['discount'] +\n",
    "             weight_price * row['price'])\n",
    "    return score\n",
    "\n",
    "df['popularity_score_raw'] = df.apply(calculate_popularity_score, axis=1)\n",
    "scaler = MinMaxScaler(feature_range=(1, 100))\n",
    "df['popularity_score_normalized'] = scaler.fit_transform(df[['popularity_score_raw']])\n",
    "df['popularity_score'] = df['popularity_score_normalized'].apply(math.floor)\n",
    "df.drop(columns=['popularity_score_raw', 'popularity_score_normalized'], inplace=True)"
   ]
  },
  {
   "cell_type": "code",
   "execution_count": 7,
   "metadata": {},
   "outputs": [],
   "source": [
    "# Save the dataframe to a new CSV file\n",
    "df.to_csv('synthetic_myntra_dataset.csv', index=False)"
   ]
  },
  {
   "cell_type": "code",
   "execution_count": null,
   "metadata": {},
   "outputs": [],
   "source": []
  }
 ],
 "metadata": {
  "kernelspec": {
   "display_name": "Python 3",
   "language": "python",
   "name": "python3"
  },
  "language_info": {
   "codemirror_mode": {
    "name": "ipython",
    "version": 3
   },
   "file_extension": ".py",
   "mimetype": "text/x-python",
   "name": "python",
   "nbconvert_exporter": "python",
   "pygments_lexer": "ipython3",
   "version": "3.11.4"
  }
 },
 "nbformat": 4,
 "nbformat_minor": 2
}
